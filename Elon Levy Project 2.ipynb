{
 "cells": [
  {
   "cell_type": "code",
   "execution_count": null,
   "metadata": {},
   "outputs": [
    {
     "name": "stdout",
     "output_type": "stream",
     "text": [
      "Welcome to Hangman! Guess the word correctly to decode the message!\n"
     ]
    }
   ],
   "source": [
    "print(\"Welcome to Hangman! Guess the word correctly to decode the message!\")\n",
    "import random\n",
    "def decrypt(ciphertext):\n",
    "    plaintext = \"\"\n",
    "    for index in range(len(ciphertext)):\n",
    "        if index % 2 == 0:\n",
    "            value_plain = ord(ciphertext[index]) - 1\n",
    "            plaintext += chr(value_plain)\n",
    "        else:\n",
    "            value_plain = ord(ciphertext[index]) + 1\n",
    "            plaintext += chr(value_plain)\n",
    "    return plaintext\n",
    "\n",
    "\n",
    "def hangman():\n",
    "    words = [\"WHDSPQZ\", \"XHO\", \"TTDBFRT\", \"QQJYF\", \"ENQD\", \"DNPK\", \"CNTR\", \"EHWHOD\", \"TSVMOHOF\", \"XNOCFQGTM\"]\n",
    "    random_index = random.randint(0, len(words)-1)\n",
    "    random_word = words[random_index]\n",
    "    length_word = len(random_word)\n",
    "    guess_word = []\n",
    "    for index in range(length_word):\n",
    "        guess_word.append(\"-\")\n",
    "    lives = 10\n",
    "    guess_letters = []\n",
    "    while \"\".join(guess_word) != random_word and lives > 0:\n",
    "        user_input = input(\"Guess a letter: \").upper()\n",
    "        if user_input not in random_word:\n",
    "            lives -= 1\n",
    "            guess_letters.append(user_input)\n",
    "            print(f\"Your letter {user_input} is not in the word\")\n",
    "        elif user_input in random_word:\n",
    "            for i in range(length_word):\n",
    "                if random_word[i] == user_input:\n",
    "                    guess_word[i] = user_input\n",
    "            print(f\"Your letter {user_input} is in the word\")\n",
    "            \n",
    "        print(guess_word)\n",
    "        print(f\"You have {lives} lives left\")\n",
    "        print(f\"You've guessed these letters: {guess_letters}\")\n",
    "        print(\"\\n\")\n",
    "    if lives == 0:\n",
    "            print(\"The game is over, try again to decode the message\")\n",
    "    if \"\".join(guess_word) == random_word:\n",
    "        print(decrypt(random_word))\n",
    "        print(\"Congrats, you figured it out!\")\n",
    "\n",
    "hangman()"
   ]
  },
  {
   "cell_type": "code",
   "execution_count": null,
   "metadata": {},
   "outputs": [],
   "source": []
  }
 ],
 "metadata": {
  "kernelspec": {
   "display_name": "Python 3",
   "language": "python",
   "name": "python3"
  },
  "language_info": {
   "codemirror_mode": {
    "name": "ipython",
    "version": 3
   },
   "file_extension": ".py",
   "mimetype": "text/x-python",
   "name": "python",
   "nbconvert_exporter": "python",
   "pygments_lexer": "ipython3",
   "version": "3.8.3"
  }
 },
 "nbformat": 4,
 "nbformat_minor": 4
}
